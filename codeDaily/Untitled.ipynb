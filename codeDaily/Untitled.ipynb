{
 "cells": [
  {
   "cell_type": "markdown",
   "metadata": {},
   "source": [
    "### 递归  \n",
    "#### 必须有的要素  \n",
    "- 终止条件  \n",
    "- 递归主题  "
   ]
  },
  {
   "cell_type": "markdown",
   "metadata": {},
   "source": [
    "#### 总结的经验\n",
    "- 不要想太复杂,刚开始时从最简单的case想到思路,再逐渐扩展到复杂的情况\n",
    "\n",
    "> [剑指offer24题:二叉搜索树的后序遍历序列](https://www.nowcoder.com/practice/a861533d45854474ac791d90e447bafd?tpId=13&tqId=11176&tPage=2&rp=2&ru=/ta/coding-interviews&qru=/ta/coding-interviews/question-ranking)   \n",
    ">输入一个整数数组，判断该数组是不是某二叉搜索树的后序遍历的结果。如果是则输出Yes,否则输出No。假设输入的数组的任意两个数字都互不相同.  \n",
    "\n",
    "*先注意边界情况,使用递归解决时,一定要先从一个最简单的情况,如就3个数字9,22,20,然后思路就比较清晰了. 递归法一开始想的太复杂的列子,很容易脑子晕的,代码如下*\n",
    "```python\n",
    "\n",
    "# -*- coding:utf-8 -*-\n",
    "\n",
    "class Solution:\n",
    "    def VerifySquenceOfBST(self, sequence):\n",
    "        if len(sequence) == 0:\n",
    "            return False\n",
    "        if len(sequence) == 1:\n",
    "            return True\n",
    "        index = 0\n",
    "        while sequence[index] < sequence[-1]:\n",
    "            index += 1\n",
    "        for j in sequence[index:]:\n",
    "            if j < sequence[-1]:\n",
    "                return False\n",
    "        return self.VerifySquenceOfBST(sequence[:index])or self.VerifySquenceOfBST(sequence[index:-1])\n",
    "```\n",
    "\n",
    "\n"
   ]
  },
  {
   "cell_type": "code",
   "execution_count": null,
   "metadata": {
    "collapsed": true
   },
   "outputs": [],
   "source": []
  },
  {
   "cell_type": "code",
   "execution_count": null,
   "metadata": {
    "collapsed": true
   },
   "outputs": [],
   "source": []
  }
 ],
 "metadata": {
  "anaconda-cloud": {},
  "kernelspec": {
   "display_name": "Python [conda root]",
   "language": "python",
   "name": "conda-root-py"
  },
  "language_info": {
   "codemirror_mode": {
    "name": "ipython",
    "version": 2
   },
   "file_extension": ".py",
   "mimetype": "text/x-python",
   "name": "python",
   "nbconvert_exporter": "python",
   "pygments_lexer": "ipython2",
   "version": "2.7.12"
  }
 },
 "nbformat": 4,
 "nbformat_minor": 1
}
