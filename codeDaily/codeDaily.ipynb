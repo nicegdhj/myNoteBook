{
 "cells": [
  {
   "cell_type": "markdown",
   "metadata": {},
   "source": [
    "### 递归  \n",
    "#### 必须有的要素  \n",
    "- 终止条件(注意到最后边界结束时情况)  \n",
    "- 递归逻辑主体\n",
    "- 进入下一层递归\n",
    "\n",
    "#### 总结的经验\n",
    "- 使用递归时，要先想清楚问题是从小到大，还是自顶向下\n",
    "- 所谓从从小到大，就是从低层开始，外层的状态依赖低层的状态（这种情况递归函数除了终止条件，还有返回值）\n",
    "- 所谓自顶向下，就是从最外层开始，一步步往下(这种情况下递归函数一般只有终止条件，当到最后就完事了，不需要再返回上层,视具体情况也有返回值的)\n",
    "\n",
    "##### 从小到大\n",
    "*比如斐波那契数列，全排列, 检查后续遍历序列*"
   ]
  },
  {
   "cell_type": "markdown",
   "metadata": {
    "collapsed": true
   },
   "source": [
    ">[斐波那契数列](https://www.nowcoder.com/practice/c6c7742f5ba7442aada113136ddea0c3?tpId=13&tqId=11160&tPage=1&rp=2&ru=%2Fta%2Fcoding-interviews&qru=%2Fta%2Fcoding-interviews%2Fquestion-ranking) \n",
    "> 不是最优解  \n",
    "\n",
    "```python\n",
    "def func(n):\n",
    "    if n <= 0:\n",
    "        return 0\n",
    "    if n == 1:\n",
    "        return 1\n",
    "    res = func(n - 1) + func(n - 2)\n",
    "    return res\n",
    "\n",
    "```"
   ]
  },
  {
   "cell_type": "markdown",
   "metadata": {},
   "source": [
    "> [剑指offer28题字符串的排列](https://www.nowcoder.com/practice/fe6b651b66ae47d7acce78ffdd9a96c7?tpId=13&tqId=11180&tPage=2&rp=2&ru=%2Fta%2Fcoding-interviews&qru=%2Fta%2Fcoding-interviews%2Fquestion-ranking) \n",
    "\n",
    "```python\n",
    "    # -*- coding:utf-8 -*-\n",
    "import copy\n",
    "class Solution:\n",
    "    def Permutation(self, ss):\n",
    "        # write code here\n",
    "        if not ss:\n",
    "            return []\n",
    "        if len(ss) == 1:\n",
    "            return [ss]\n",
    "        res = self.perFunc(ss)\n",
    "        # 去重\n",
    "        return sorted(list(set(res)))\n",
    "\n",
    "    def perFunc(self, ss):\n",
    "        if len(ss) == 1:\n",
    "            return ss\n",
    "        res = self.perFunc(ss[1:])\n",
    "        newRes = []\n",
    "        for string in res:\n",
    "            # 首字母与后面的交换\n",
    "            string = ss[0] + string\n",
    "            newRes.append(string)\n",
    "            for index in range(len(string) - 1):\n",
    "                temp = copy.deepcopy(string)\n",
    "                # 从第二位开始交换, python的str是最小单位了\n",
    "                temp = list(temp)\n",
    "                temp[0], temp[index + 1] = temp[index + 1], temp[0]\n",
    "                newRes.append(''.join(temp))\n",
    "        return newRes\n",
    "\n",
    "```\n"
   ]
  },
  {
   "cell_type": "markdown",
   "metadata": {},
   "source": [
    "> [剑指offer24题:二叉搜索树的后序遍历序列](https://www.nowcoder.com/practice/a861533d45854474ac791d90e447bafd?tpId=13&tqId=11176&tPage=2&rp=2&ru=/ta/coding-interviews&qru=/ta/coding-interviews/question-ranking)   \n",
    ">输入一个整数数组，判断该数组是不是某二叉搜索树的后序遍历的结果。如果是则输出Yes,否则输出No。假设输入的数组的任意两个数字都互不相同.  \n",
    "\n",
    "*先注意边界情况,使用递归解决时,一定要先从一个最简单的情况,如就3个数字9,22,20,然后思路就比较清晰了. 递归法一开始想的太复杂的列子,很容易脑子晕的,代码如下*\n",
    "```python\n",
    "\n",
    "# coding=utf-8\n",
    "class Solution:\n",
    "    def VerifySquenceOfBST(self, sequence):\n",
    "        # 边界判断\n",
    "        if len(sequence) == 0:\n",
    "            return False\n",
    "        # 终止条件\n",
    "        if len(sequence) == 1:\n",
    "            return True\n",
    "        # 在二叉搜索树中找到分隔点\n",
    "        index = 0\n",
    "        while sequence[index] < sequence[-1]:\n",
    "            index += 1\n",
    "        for i in sequence[index:]:\n",
    "            if i < sequence[-1]:\n",
    "                return False\n",
    "        # 进入下一层\n",
    "        # 注意结束时的边界情况的判断写法\n",
    "        left = True\n",
    "        if (index > 0):\n",
    "            # a[0:0]值为[]\n",
    "            left = self.VerifySquenceOfBST(sequence[:index])\n",
    "        right = True\n",
    "        if (index < len(sequence)-1):\n",
    "            right = self.VerifySquenceOfBST(sequence[index:-1])\n",
    "        return left and right\n",
    "\n",
    "```"
   ]
  },
  {
   "cell_type": "markdown",
   "metadata": {},
   "source": [
    "##### 自顶向下\n",
    "*比如是否是后续遍历序列，二叉树的遍历，快排 *"
   ]
  },
  {
   "cell_type": "markdown",
   "metadata": {},
   "source": [
    "> [快速排序](https://github.com/qiwsir/algorithm/blob/master/quick_sort.md)  \n",
    "> \n",
    "```python\n",
    "    def quickSort(arr):\n",
    "\t    less = []\n",
    "\t    pivotList = []\n",
    "\t    more = []\n",
    "\t    if len(arr) <= 1:\n",
    "\t        return arr\n",
    "\t    else:\n",
    "\t        pivot = arr[0]      #将第一个值做为基准\n",
    "\t        for i in arr:\n",
    "\t            if i < pivot:\n",
    "\t                less.append(i)\n",
    "\t            elif i > pivot:\n",
    "\t                more.append(i)\n",
    "\t            else:\n",
    "\t                pivotList.append(i)\n",
    "\t\n",
    "\t        less = quickSort(less)      #得到第一轮分组之后，继续将分组进行下去。\n",
    "\t        more = quickSort(more)\n",
    "\t\n",
    "        return less + pivotList + more\n",
    "```\n",
    "\n"
   ]
  },
  {
   "cell_type": "markdown",
   "metadata": {},
   "source": []
  },
  {
   "cell_type": "markdown",
   "metadata": {},
   "source": [
    "### 动态规划\n",
    "#### 基本的一维动态规划\n",
    "\n",
    "- 首先分析好最终一步的问题，达到它这一步的小问题是什么，写好状态方程\n",
    "- 走到array最后一步，仅仅是代表了走完array最后一步opt[array.length]的状态，还要依据题意分析究竟是返回哪个状态？\n"
   ]
  },
  {
   "cell_type": "markdown",
   "metadata": {},
   "source": [
    "> [一个很好的教程](https://www.bilibili.com/video/av18512769)  \n",
    "> [剑指offer31题:连续子数组最大和](https://www.nowcoder.com/practice/459bd355da1549fa8a49e350bf3df484?tpId=13&tqId=11183&tPage=2&rp=2&ru=%2Fta%2Fcoding-interviews&qru=%2Fta%2Fcoding-interviews%2Fquestion-ranking)\n",
    "\n",
    "\n",
    "*注意到状态方程的定义，以及最后是要返回一个res，而不是返回opt[array.lenth-1]*\n",
    "\n",
    "```Java\n",
    "public class Solution {\n",
    "    public int FindGreatestSumOfSubArray(int[] array) {\n",
    "        if (array.length <= 0) {\n",
    "            return 0;\n",
    "        }\n",
    "        int res = array[0];\n",
    "        int[] opt = new int[array.length];\n",
    "        opt[0] = array[0];\n",
    "        for (int i = 1; i < array.length; i++) {\n",
    "            int state1 = opt[i-1] + array[i];\n",
    "            int state0 = array[i];\n",
    "            opt[i] = Math.max(state0, state1);\n",
    "            res = Math.max(res, opt[i]);\n",
    "        }\n",
    "        return res;\n",
    "    }\n",
    "}\n",
    "```"
   ]
  },
  {
   "cell_type": "code",
   "execution_count": null,
   "metadata": {},
   "outputs": [],
   "source": []
  }
 ],
 "metadata": {
  "anaconda-cloud": {},
  "kernelspec": {
   "display_name": "Python 3",
   "language": "python",
   "name": "python3"
  },
  "language_info": {
   "codemirror_mode": {
    "name": "ipython",
    "version": 3
   },
   "file_extension": ".py",
   "mimetype": "text/x-python",
   "name": "python",
   "nbconvert_exporter": "python",
   "pygments_lexer": "ipython3",
   "version": "3.6.5"
  }
 },
 "nbformat": 4,
 "nbformat_minor": 1
}
